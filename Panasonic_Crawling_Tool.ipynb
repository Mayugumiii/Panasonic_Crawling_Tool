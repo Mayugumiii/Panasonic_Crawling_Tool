{
  "nbformat": 4,
  "nbformat_minor": 0,
  "metadata": {
    "colab": {
      "provenance": [],
      "authorship_tag": "ABX9TyMBFo1h7kW9VVZguxWxybhR",
      "include_colab_link": true
    },
    "kernelspec": {
      "name": "python3",
      "display_name": "Python 3"
    },
    "language_info": {
      "name": "python"
    }
  },
  "cells": [
    {
      "cell_type": "markdown",
      "metadata": {
        "id": "view-in-github",
        "colab_type": "text"
      },
      "source": [
        "<a href=\"https://colab.research.google.com/github/Mayugumiii/Panasonic_Crawling_Tool/blob/main/Panasonic_Crawling_Tool.ipynb\" target=\"_parent\"><img src=\"https://colab.research.google.com/assets/colab-badge.svg\" alt=\"Open In Colab\"/></a>"
      ]
    },
    {
      "cell_type": "markdown",
      "source": [
        "Import libraries"
      ],
      "metadata": {
        "id": "EIcQmjQ0aumH"
      }
    },
    {
      "cell_type": "code",
      "source": [
        "from google.colab import drive\n",
        "drive.mount('/content/drive')"
      ],
      "metadata": {
        "colab": {
          "base_uri": "https://localhost:8080/"
        },
        "id": "OvIowxc7pvSg",
        "outputId": "e752cc2e-f36a-4331-ff33-305560e9adb2"
      },
      "execution_count": null,
      "outputs": [
        {
          "output_type": "stream",
          "name": "stdout",
          "text": [
            "Drive already mounted at /content/drive; to attempt to forcibly remount, call drive.mount(\"/content/drive\", force_remount=True).\n"
          ]
        }
      ]
    },
    {
      "cell_type": "code",
      "source": [
        "!pip install selenium"
      ],
      "metadata": {
        "colab": {
          "base_uri": "https://localhost:8080/"
        },
        "id": "YoFuCNw46HJT",
        "outputId": "4b7abf00-45f3-4efd-d91e-ed54051dc592"
      },
      "execution_count": null,
      "outputs": [
        {
          "output_type": "stream",
          "name": "stdout",
          "text": [
            "Collecting selenium\n",
            "  Downloading selenium-4.12.0-py3-none-any.whl (9.4 MB)\n",
            "\u001b[2K     \u001b[90m━━━━━━━━━━━━━━━━━━━━━━━━━━━━━━━━━━━━━━━━\u001b[0m \u001b[32m9.4/9.4 MB\u001b[0m \u001b[31m80.6 MB/s\u001b[0m eta \u001b[36m0:00:00\u001b[0m\n",
            "\u001b[?25hRequirement already satisfied: urllib3[socks]<3,>=1.26 in /usr/local/lib/python3.10/dist-packages (from selenium) (2.0.4)\n",
            "Collecting trio~=0.17 (from selenium)\n",
            "  Downloading trio-0.22.2-py3-none-any.whl (400 kB)\n",
            "\u001b[2K     \u001b[90m━━━━━━━━━━━━━━━━━━━━━━━━━━━━━━━━━━━━━━\u001b[0m \u001b[32m400.2/400.2 kB\u001b[0m \u001b[31m45.7 MB/s\u001b[0m eta \u001b[36m0:00:00\u001b[0m\n",
            "\u001b[?25hCollecting trio-websocket~=0.9 (from selenium)\n",
            "  Downloading trio_websocket-0.10.3-py3-none-any.whl (17 kB)\n",
            "Requirement already satisfied: certifi>=2021.10.8 in /usr/local/lib/python3.10/dist-packages (from selenium) (2023.7.22)\n",
            "Requirement already satisfied: attrs>=20.1.0 in /usr/local/lib/python3.10/dist-packages (from trio~=0.17->selenium) (23.1.0)\n",
            "Requirement already satisfied: sortedcontainers in /usr/local/lib/python3.10/dist-packages (from trio~=0.17->selenium) (2.4.0)\n",
            "Requirement already satisfied: idna in /usr/local/lib/python3.10/dist-packages (from trio~=0.17->selenium) (3.4)\n",
            "Collecting outcome (from trio~=0.17->selenium)\n",
            "  Downloading outcome-1.2.0-py2.py3-none-any.whl (9.7 kB)\n",
            "Requirement already satisfied: sniffio in /usr/local/lib/python3.10/dist-packages (from trio~=0.17->selenium) (1.3.0)\n",
            "Requirement already satisfied: exceptiongroup>=1.0.0rc9 in /usr/local/lib/python3.10/dist-packages (from trio~=0.17->selenium) (1.1.3)\n",
            "Collecting wsproto>=0.14 (from trio-websocket~=0.9->selenium)\n",
            "  Downloading wsproto-1.2.0-py3-none-any.whl (24 kB)\n",
            "Requirement already satisfied: pysocks!=1.5.7,<2.0,>=1.5.6 in /usr/local/lib/python3.10/dist-packages (from urllib3[socks]<3,>=1.26->selenium) (1.7.1)\n",
            "Collecting h11<1,>=0.9.0 (from wsproto>=0.14->trio-websocket~=0.9->selenium)\n",
            "  Downloading h11-0.14.0-py3-none-any.whl (58 kB)\n",
            "\u001b[2K     \u001b[90m━━━━━━━━━━━━━━━━━━━━━━━━━━━━━━━━━━━━━━━━\u001b[0m \u001b[32m58.3/58.3 kB\u001b[0m \u001b[31m8.5 MB/s\u001b[0m eta \u001b[36m0:00:00\u001b[0m\n",
            "\u001b[?25hInstalling collected packages: outcome, h11, wsproto, trio, trio-websocket, selenium\n",
            "Successfully installed h11-0.14.0 outcome-1.2.0 selenium-4.12.0 trio-0.22.2 trio-websocket-0.10.3 wsproto-1.2.0\n"
          ]
        }
      ]
    },
    {
      "cell_type": "code",
      "execution_count": null,
      "metadata": {
        "id": "dP40cjKd-0-E"
      },
      "outputs": [],
      "source": [
        "import os\n",
        "import requests\n",
        "import time\n",
        "import random\n",
        "\n",
        "from tqdm import tqdm\n",
        "from selenium import webdriver\n",
        "from selenium.webdriver.common.by import By\n",
        "from selenium.webdriver.support.ui import WebDriverWait\n",
        "from selenium.webdriver.support import expected_conditions as EC\n",
        "from selenium.webdriver.chrome.service import Service"
      ]
    },
    {
      "cell_type": "code",
      "source": [
        "vietnam_provinces = [\n",
        "    \"Hà Nội\",\n",
        "    \"Hồ Chí Minh\",\n",
        "    \"Hải Phòng\",\n",
        "    \"Đà Nẵng\",\n",
        "    \"Cần Thơ\",\n",
        "    \"Hà Giang\",\n",
        "    \"Cao Bằng\",\n",
        "    \"Lai Châu\",\n",
        "    \"Lào Cai\",\n",
        "    \"Tuyên Quang\",\n",
        "    \"Lạng Sơn\",\n",
        "    \"Bắc Kạn\",\n",
        "    \"Thái Nguyên\",\n",
        "    \"Yên Bái\",\n",
        "    \"Sơn La\",\n",
        "    \"Phú Thọ\",\n",
        "    \"Vĩnh Phúc\",\n",
        "    \"Bắc Ninh\",\n",
        "    \"Bắc Giang\",\n",
        "    \"Hà Nam\",\n",
        "    \"Hưng Yên\",\n",
        "    \"Thái Bình\",\n",
        "    \"Hải Dương\",\n",
        "    \"Ninh Bình\",\n",
        "    \"Nam Định\",\n",
        "    \"Quảng Ninh\",\n",
        "    \"Thanh Hóa\",\n",
        "    \"Nghệ An\",\n",
        "    \"Hà Tĩnh\",\n",
        "    \"Quảng Bình\",\n",
        "    \"Quảng Trị\",\n",
        "    \"Thừa Thiên-Huế\",\n",
        "    \"Quảng Nam\",\n",
        "    \"Quảng Ngãi\",\n",
        "    \"Bình Định\",\n",
        "    \"Phú Yên\",\n",
        "    \"Khánh Hòa\",\n",
        "    \"Ninh Thuận\",\n",
        "    \"Bình Thuận\",\n",
        "    \"Kon Tum\",\n",
        "    \"Gia Lai\",\n",
        "    \"Đắk Lắk\",\n",
        "    \"Đắk Nông\",\n",
        "    \"Lâm Đồng\",\n",
        "    \"Bình Phước\",\n",
        "    \"Tây Ninh\",\n",
        "    \"Bình Dương\",\n",
        "    \"Đồng Nai\",\n",
        "    \"Bà Rịa-Vũng Tàu\",\n",
        "    \"Long An\",\n",
        "    \"Tiền Giang\",\n",
        "    \"Bến Tre\",\n",
        "    \"Trà Vinh\",\n",
        "    \"Vĩnh Long\",\n",
        "    \"Đồng Tháp\",\n",
        "    \"An Giang\",\n",
        "    \"Kiên Giang\",\n",
        "    \"Cà Mau\",\n",
        "    \"Bạc Liêu\",\n",
        "    \"Sóc Trăng\",\n",
        "    \"Hậu Giang\",\n",
        "    \"Bắc Trung Bộ\",\n",
        "    \"Nam Trung Bộ\",\n",
        "    \"Tây Nguyên\",\n",
        "    \"Đông Nam Bộ\"\n",
        "]\n"
      ],
      "metadata": {
        "id": "Pm5-IdA03Mjp"
      },
      "execution_count": null,
      "outputs": []
    },
    {
      "cell_type": "code",
      "source": [
        "from selenium.common.exceptions import NoSuchElementException"
      ],
      "metadata": {
        "id": "7Xm7SshsDwTM"
      },
      "execution_count": null,
      "outputs": []
    },
    {
      "cell_type": "code",
      "source": [
        "#Init browser\n",
        "chrome_options = webdriver.ChromeOptions()\n",
        "chrome_options.add_argument('--headless=new')\n",
        "chrome_options.add_argument('--no-sandbox')\n",
        "driver = webdriver.Chrome(\n",
        "    options=chrome_options\n",
        ")"
      ],
      "metadata": {
        "id": "ukvVKeYLbYZz"
      },
      "execution_count": null,
      "outputs": []
    },
    {
      "cell_type": "code",
      "source": [
        "\n",
        "list = []\n",
        "\n",
        "for province in vietnam_provinces:\n",
        "  print(province)\n",
        "  driver.get(\"https://www.panasonic.com/vn/support/service-center.html\")\n",
        "\n",
        "  radius_button = driver.find_element(By.ID, 'distance_3')\n",
        "  radius_button.click()\n",
        "\n",
        "\n",
        "  time.sleep(3)\n",
        "  search_input = driver.find_element(By.ID, 'a-search')\n",
        "  search_input.clear()  # Xóa nội dung trước để nhập lại\n",
        "  time.sleep(3)\n",
        "  search_input.send_keys(province)\n",
        "\n",
        "  search_button = driver.find_element(By.ID, 'searchsubmit')\n",
        "  search_button.click()\n",
        "\n",
        "  time.sleep(3)\n",
        "  scroll_increment = 111.8\n",
        "  div_element = driver.find_element(By.XPATH, '//*[@id=\"sections\"]/div/div/div[2]/div/div[2]/div/div/div/div[1]')\n",
        "  # Initialize n\n",
        "  top_value = 0\n",
        "  n = 1\n",
        "  while True:\n",
        "      try:\n",
        "          h3_element = driver.find_element(By.XPATH, '//*[@id=\"sections\"]/div/div/div[2]/div/div[2]/div/div/div/div[1]/div/div[' + str(n) + ']/div[2]/h3')\n",
        "          if h3_element.text not in list:\n",
        "            list.append(h3_element.text)\n",
        "          top_value -= 100\n",
        "          driver.execute_script(f\"arguments[0].style.top = '{top_value}px';\", div_element)\n",
        "          n += 1\n",
        "      except NoSuchElementException:\n",
        "          # If no more h3 elements are found, exit the loop\n",
        "          break\n",
        "  print(list)\n",
        "\n",
        "  driver.back()"
      ],
      "metadata": {
        "id": "PICw6YHjeRtn",
        "colab": {
          "base_uri": "https://localhost:8080/",
          "height": 1000
        },
        "outputId": "b35db9a4-03ef-480b-87f5-2bbf90fe4883"
      },
      "execution_count": null,
      "outputs": [
        {
          "output_type": "stream",
          "name": "stdout",
          "text": [
            "Hà Nội\n",
            "['Thái Hà', 'ACE - Chi nhánh Hà Nội', 'Thái Hà 2', 'Phòng dịch vụ Panasonic Sales Việt Nam - Chi nhánh Hà Nội', 'Minh Hoàng', 'Tiến Minh', 'Hồng Hải', 'Hải Bằng', 'Xuân Tùng', 'Ngọc Việt', 'Bá Lương', 'Đức Toàn', 'Thuận An', 'Bảo Phát', 'Mạnh Cường', 'Tăng Tự', 'Đức Lộc', 'Tuấn Cường', 'Ngọc Thơm', 'Sao Việt', 'Hòa Bình', 'Thành Lợi', 'Giang Thắng', 'Khánh Hiền', 'Thịnh Cường', 'Thành Mai', 'Trần Quang Anh', 'Trần Côn', 'Huỳnh Nga', 'Tâm Việt', 'Hoàng Huân', 'Điện tử Điện Lạnh Hồng Hà', 'An Phúc Bình', 'Ngọc Tuấn', 'Thịnh Phát', 'Ngọc Quang']\n",
            "Hồ Chí Minh\n",
            "['Thái Hà', 'ACE - Chi nhánh Hà Nội', 'Thái Hà 2', 'Phòng dịch vụ Panasonic Sales Việt Nam - Chi nhánh Hà Nội', 'Minh Hoàng', 'Tiến Minh', 'Hồng Hải', 'Hải Bằng', 'Xuân Tùng', 'Ngọc Việt', 'Bá Lương', 'Đức Toàn', 'Thuận An', 'Bảo Phát', 'Mạnh Cường', 'Tăng Tự', 'Đức Lộc', 'Tuấn Cường', 'Ngọc Thơm', 'Sao Việt', 'Hòa Bình', 'Thành Lợi', 'Giang Thắng', 'Khánh Hiền', 'Thịnh Cường', 'Thành Mai', 'Trần Quang Anh', 'Trần Côn', 'Huỳnh Nga', 'Tâm Việt', 'Hoàng Huân', 'Điện tử Điện Lạnh Hồng Hà', 'An Phúc Bình', 'Ngọc Tuấn', 'Thịnh Phát', 'Ngọc Quang', 'Phan Dũng', 'Thiên Khôi', 'Phong Thành', 'Phong Phú', 'Võ Văn Minh', 'Việt Thắng', 'ACE - Chi nhánh Hồ Chí Minh', 'Phòng dịch vụ Panasonic Sales Việt Nam - Chi nhánh Hồ Chí Minh', 'Thiên Anh', 'Hoàng Tâm Hiếu', 'Hồng Anh', 'Nguyên Vi', 'Điện Tử Dũng', 'Đoàn Võ', 'Hải Việt', 'Điện Lạnh Bình Dương', 'Nguyễn Hoàng', 'Đăng Huân', 'Thanh Cảnh', 'Nguyễn Văn Thành', 'Huy Hoàng', 'Út Lực', 'Phương Nam', 'Thanh Ngân', 'Nhật', 'Long Hải', 'Văn Hơn', 'Thiện Tài', 'Điện Lạnh Thuận', 'Công Lựu', 'Phước Dũng', 'Hoàng Vinh', 'Thanh Mai', 'Thanh Mai 2', 'Thảo Phát', 'Vĩnh Huân']\n",
            "Hải Phòng\n",
            "['Thái Hà', 'ACE - Chi nhánh Hà Nội', 'Thái Hà 2', 'Phòng dịch vụ Panasonic Sales Việt Nam - Chi nhánh Hà Nội', 'Minh Hoàng', 'Tiến Minh', 'Hồng Hải', 'Hải Bằng', 'Xuân Tùng', 'Ngọc Việt', 'Bá Lương', 'Đức Toàn', 'Thuận An', 'Bảo Phát', 'Mạnh Cường', 'Tăng Tự', 'Đức Lộc', 'Tuấn Cường', 'Ngọc Thơm', 'Sao Việt', 'Hòa Bình', 'Thành Lợi', 'Giang Thắng', 'Khánh Hiền', 'Thịnh Cường', 'Thành Mai', 'Trần Quang Anh', 'Trần Côn', 'Huỳnh Nga', 'Tâm Việt', 'Hoàng Huân', 'Điện tử Điện Lạnh Hồng Hà', 'An Phúc Bình', 'Ngọc Tuấn', 'Thịnh Phát', 'Ngọc Quang', 'Phan Dũng', 'Thiên Khôi', 'Phong Thành', 'Phong Phú', 'Võ Văn Minh', 'Việt Thắng', 'ACE - Chi nhánh Hồ Chí Minh', 'Phòng dịch vụ Panasonic Sales Việt Nam - Chi nhánh Hồ Chí Minh', 'Thiên Anh', 'Hoàng Tâm Hiếu', 'Hồng Anh', 'Nguyên Vi', 'Điện Tử Dũng', 'Đoàn Võ', 'Hải Việt', 'Điện Lạnh Bình Dương', 'Nguyễn Hoàng', 'Đăng Huân', 'Thanh Cảnh', 'Nguyễn Văn Thành', 'Huy Hoàng', 'Út Lực', 'Phương Nam', 'Thanh Ngân', 'Nhật', 'Long Hải', 'Văn Hơn', 'Thiện Tài', 'Điện Lạnh Thuận', 'Công Lựu', 'Phước Dũng', 'Hoàng Vinh', 'Thanh Mai', 'Thanh Mai 2', 'Thảo Phát', 'Vĩnh Huân', 'Tuấn Thắng']\n",
            "Đà Nẵng\n",
            "['Thái Hà', 'ACE - Chi nhánh Hà Nội', 'Thái Hà 2', 'Phòng dịch vụ Panasonic Sales Việt Nam - Chi nhánh Hà Nội', 'Minh Hoàng', 'Tiến Minh', 'Hồng Hải', 'Hải Bằng', 'Xuân Tùng', 'Ngọc Việt', 'Bá Lương', 'Đức Toàn', 'Thuận An', 'Bảo Phát', 'Mạnh Cường', 'Tăng Tự', 'Đức Lộc', 'Tuấn Cường', 'Ngọc Thơm', 'Sao Việt', 'Hòa Bình', 'Thành Lợi', 'Giang Thắng', 'Khánh Hiền', 'Thịnh Cường', 'Thành Mai', 'Trần Quang Anh', 'Trần Côn', 'Huỳnh Nga', 'Tâm Việt', 'Hoàng Huân', 'Điện tử Điện Lạnh Hồng Hà', 'An Phúc Bình', 'Ngọc Tuấn', 'Thịnh Phát', 'Ngọc Quang', 'Phan Dũng', 'Thiên Khôi', 'Phong Thành', 'Phong Phú', 'Võ Văn Minh', 'Việt Thắng', 'ACE - Chi nhánh Hồ Chí Minh', 'Phòng dịch vụ Panasonic Sales Việt Nam - Chi nhánh Hồ Chí Minh', 'Thiên Anh', 'Hoàng Tâm Hiếu', 'Hồng Anh', 'Nguyên Vi', 'Điện Tử Dũng', 'Đoàn Võ', 'Hải Việt', 'Điện Lạnh Bình Dương', 'Nguyễn Hoàng', 'Đăng Huân', 'Thanh Cảnh', 'Nguyễn Văn Thành', 'Huy Hoàng', 'Út Lực', 'Phương Nam', 'Thanh Ngân', 'Nhật', 'Long Hải', 'Văn Hơn', 'Thiện Tài', 'Điện Lạnh Thuận', 'Công Lựu', 'Phước Dũng', 'Hoàng Vinh', 'Thanh Mai', 'Thanh Mai 2', 'Thảo Phát', 'Vĩnh Huân', 'Tuấn Thắng', 'Minh Dương', 'KM', 'Điện Tử Anh', 'Mỹ Hương', 'Thành Hiệp', 'Phi', 'Tiến Trung', 'Bảo Bảo Thiên']\n",
            "Cần Thơ\n",
            "['Thái Hà', 'ACE - Chi nhánh Hà Nội', 'Thái Hà 2', 'Phòng dịch vụ Panasonic Sales Việt Nam - Chi nhánh Hà Nội', 'Minh Hoàng', 'Tiến Minh', 'Hồng Hải', 'Hải Bằng', 'Xuân Tùng', 'Ngọc Việt', 'Bá Lương', 'Đức Toàn', 'Thuận An', 'Bảo Phát', 'Mạnh Cường', 'Tăng Tự', 'Đức Lộc', 'Tuấn Cường', 'Ngọc Thơm', 'Sao Việt', 'Hòa Bình', 'Thành Lợi', 'Giang Thắng', 'Khánh Hiền', 'Thịnh Cường', 'Thành Mai', 'Trần Quang Anh', 'Trần Côn', 'Huỳnh Nga', 'Tâm Việt', 'Hoàng Huân', 'Điện tử Điện Lạnh Hồng Hà', 'An Phúc Bình', 'Ngọc Tuấn', 'Thịnh Phát', 'Ngọc Quang', 'Phan Dũng', 'Thiên Khôi', 'Phong Thành', 'Phong Phú', 'Võ Văn Minh', 'Việt Thắng', 'ACE - Chi nhánh Hồ Chí Minh', 'Phòng dịch vụ Panasonic Sales Việt Nam - Chi nhánh Hồ Chí Minh', 'Thiên Anh', 'Hoàng Tâm Hiếu', 'Hồng Anh', 'Nguyên Vi', 'Điện Tử Dũng', 'Đoàn Võ', 'Hải Việt', 'Điện Lạnh Bình Dương', 'Nguyễn Hoàng', 'Đăng Huân', 'Thanh Cảnh', 'Nguyễn Văn Thành', 'Huy Hoàng', 'Út Lực', 'Phương Nam', 'Thanh Ngân', 'Nhật', 'Long Hải', 'Văn Hơn', 'Thiện Tài', 'Điện Lạnh Thuận', 'Công Lựu', 'Phước Dũng', 'Hoàng Vinh', 'Thanh Mai', 'Thanh Mai 2', 'Thảo Phát', 'Vĩnh Huân', 'Tuấn Thắng', 'Minh Dương', 'KM', 'Điện Tử Anh', 'Mỹ Hương', 'Thành Hiệp', 'Phi', 'Tiến Trung', 'Bảo Bảo Thiên', 'Cơ Điện Lạnh Sài Gòn', 'Thành Đạt', 'Hoàng Huy', 'Duy Tân', 'Trịnh Mẫn', 'Vy Linh', 'Thiên Phúc']\n",
            "Hà Giang\n",
            "['Thái Hà', 'ACE - Chi nhánh Hà Nội', 'Thái Hà 2', 'Phòng dịch vụ Panasonic Sales Việt Nam - Chi nhánh Hà Nội', 'Minh Hoàng', 'Tiến Minh', 'Hồng Hải', 'Hải Bằng', 'Xuân Tùng', 'Ngọc Việt', 'Bá Lương', 'Đức Toàn', 'Thuận An', 'Bảo Phát', 'Mạnh Cường', 'Tăng Tự', 'Đức Lộc', 'Tuấn Cường', 'Ngọc Thơm', 'Sao Việt', 'Hòa Bình', 'Thành Lợi', 'Giang Thắng', 'Khánh Hiền', 'Thịnh Cường', 'Thành Mai', 'Trần Quang Anh', 'Trần Côn', 'Huỳnh Nga', 'Tâm Việt', 'Hoàng Huân', 'Điện tử Điện Lạnh Hồng Hà', 'An Phúc Bình', 'Ngọc Tuấn', 'Thịnh Phát', 'Ngọc Quang', 'Phan Dũng', 'Thiên Khôi', 'Phong Thành', 'Phong Phú', 'Võ Văn Minh', 'Việt Thắng', 'ACE - Chi nhánh Hồ Chí Minh', 'Phòng dịch vụ Panasonic Sales Việt Nam - Chi nhánh Hồ Chí Minh', 'Thiên Anh', 'Hoàng Tâm Hiếu', 'Hồng Anh', 'Nguyên Vi', 'Điện Tử Dũng', 'Đoàn Võ', 'Hải Việt', 'Điện Lạnh Bình Dương', 'Nguyễn Hoàng', 'Đăng Huân', 'Thanh Cảnh', 'Nguyễn Văn Thành', 'Huy Hoàng', 'Út Lực', 'Phương Nam', 'Thanh Ngân', 'Nhật', 'Long Hải', 'Văn Hơn', 'Thiện Tài', 'Điện Lạnh Thuận', 'Công Lựu', 'Phước Dũng', 'Hoàng Vinh', 'Thanh Mai', 'Thanh Mai 2', 'Thảo Phát', 'Vĩnh Huân', 'Tuấn Thắng', 'Minh Dương', 'KM', 'Điện Tử Anh', 'Mỹ Hương', 'Thành Hiệp', 'Phi', 'Tiến Trung', 'Bảo Bảo Thiên', 'Cơ Điện Lạnh Sài Gòn', 'Thành Đạt', 'Hoàng Huy', 'Duy Tân', 'Trịnh Mẫn', 'Vy Linh', 'Thiên Phúc', 'Lê Đại Đức', 'Vân Nam', 'Hoàng Giang', 'Chiến Khu']\n",
            "Cao Bằng\n",
            "['Thái Hà', 'ACE - Chi nhánh Hà Nội', 'Thái Hà 2', 'Phòng dịch vụ Panasonic Sales Việt Nam - Chi nhánh Hà Nội', 'Minh Hoàng', 'Tiến Minh', 'Hồng Hải', 'Hải Bằng', 'Xuân Tùng', 'Ngọc Việt', 'Bá Lương', 'Đức Toàn', 'Thuận An', 'Bảo Phát', 'Mạnh Cường', 'Tăng Tự', 'Đức Lộc', 'Tuấn Cường', 'Ngọc Thơm', 'Sao Việt', 'Hòa Bình', 'Thành Lợi', 'Giang Thắng', 'Khánh Hiền', 'Thịnh Cường', 'Thành Mai', 'Trần Quang Anh', 'Trần Côn', 'Huỳnh Nga', 'Tâm Việt', 'Hoàng Huân', 'Điện tử Điện Lạnh Hồng Hà', 'An Phúc Bình', 'Ngọc Tuấn', 'Thịnh Phát', 'Ngọc Quang', 'Phan Dũng', 'Thiên Khôi', 'Phong Thành', 'Phong Phú', 'Võ Văn Minh', 'Việt Thắng', 'ACE - Chi nhánh Hồ Chí Minh', 'Phòng dịch vụ Panasonic Sales Việt Nam - Chi nhánh Hồ Chí Minh', 'Thiên Anh', 'Hoàng Tâm Hiếu', 'Hồng Anh', 'Nguyên Vi', 'Điện Tử Dũng', 'Đoàn Võ', 'Hải Việt', 'Điện Lạnh Bình Dương', 'Nguyễn Hoàng', 'Đăng Huân', 'Thanh Cảnh', 'Nguyễn Văn Thành', 'Huy Hoàng', 'Út Lực', 'Phương Nam', 'Thanh Ngân', 'Nhật', 'Long Hải', 'Văn Hơn', 'Thiện Tài', 'Điện Lạnh Thuận', 'Công Lựu', 'Phước Dũng', 'Hoàng Vinh', 'Thanh Mai', 'Thanh Mai 2', 'Thảo Phát', 'Vĩnh Huân', 'Tuấn Thắng', 'Minh Dương', 'KM', 'Điện Tử Anh', 'Mỹ Hương', 'Thành Hiệp', 'Phi', 'Tiến Trung', 'Bảo Bảo Thiên', 'Cơ Điện Lạnh Sài Gòn', 'Thành Đạt', 'Hoàng Huy', 'Duy Tân', 'Trịnh Mẫn', 'Vy Linh', 'Thiên Phúc', 'Lê Đại Đức', 'Vân Nam', 'Hoàng Giang', 'Chiến Khu']\n",
            "Lai Châu\n"
          ]
        },
        {
          "output_type": "error",
          "ename": "NoSuchElementException",
          "evalue": "ignored",
          "traceback": [
            "\u001b[0;31m---------------------------------------------------------------------------\u001b[0m",
            "\u001b[0;31mNoSuchElementException\u001b[0m                    Traceback (most recent call last)",
            "\u001b[0;32m<ipython-input-81-051d96bd3f88>\u001b[0m in \u001b[0;36m<cell line: 3>\u001b[0;34m()\u001b[0m\n\u001b[1;32m     20\u001b[0m   \u001b[0mtime\u001b[0m\u001b[0;34m.\u001b[0m\u001b[0msleep\u001b[0m\u001b[0;34m(\u001b[0m\u001b[0;36m3\u001b[0m\u001b[0;34m)\u001b[0m\u001b[0;34m\u001b[0m\u001b[0;34m\u001b[0m\u001b[0m\n\u001b[1;32m     21\u001b[0m   \u001b[0mscroll_increment\u001b[0m \u001b[0;34m=\u001b[0m \u001b[0;36m111.8\u001b[0m\u001b[0;34m\u001b[0m\u001b[0;34m\u001b[0m\u001b[0m\n\u001b[0;32m---> 22\u001b[0;31m   \u001b[0mdiv_element\u001b[0m \u001b[0;34m=\u001b[0m \u001b[0mdriver\u001b[0m\u001b[0;34m.\u001b[0m\u001b[0mfind_element\u001b[0m\u001b[0;34m(\u001b[0m\u001b[0mBy\u001b[0m\u001b[0;34m.\u001b[0m\u001b[0mXPATH\u001b[0m\u001b[0;34m,\u001b[0m \u001b[0;34m'//*[@id=\"sections\"]/div/div/div[2]/div/div[2]/div/div/div/div[1]'\u001b[0m\u001b[0;34m)\u001b[0m\u001b[0;34m\u001b[0m\u001b[0;34m\u001b[0m\u001b[0m\n\u001b[0m\u001b[1;32m     23\u001b[0m   \u001b[0;31m# Initialize n\u001b[0m\u001b[0;34m\u001b[0m\u001b[0;34m\u001b[0m\u001b[0m\n\u001b[1;32m     24\u001b[0m   \u001b[0mtop_value\u001b[0m \u001b[0;34m=\u001b[0m \u001b[0;36m0\u001b[0m\u001b[0;34m\u001b[0m\u001b[0;34m\u001b[0m\u001b[0m\n",
            "\u001b[0;32m/usr/local/lib/python3.10/dist-packages/selenium/webdriver/remote/webdriver.py\u001b[0m in \u001b[0;36mfind_element\u001b[0;34m(self, by, value)\u001b[0m\n\u001b[1;32m    736\u001b[0m             \u001b[0mvalue\u001b[0m \u001b[0;34m=\u001b[0m \u001b[0;34mf'[name=\"{value}\"]'\u001b[0m\u001b[0;34m\u001b[0m\u001b[0;34m\u001b[0m\u001b[0m\n\u001b[1;32m    737\u001b[0m \u001b[0;34m\u001b[0m\u001b[0m\n\u001b[0;32m--> 738\u001b[0;31m         \u001b[0;32mreturn\u001b[0m \u001b[0mself\u001b[0m\u001b[0;34m.\u001b[0m\u001b[0mexecute\u001b[0m\u001b[0;34m(\u001b[0m\u001b[0mCommand\u001b[0m\u001b[0;34m.\u001b[0m\u001b[0mFIND_ELEMENT\u001b[0m\u001b[0;34m,\u001b[0m \u001b[0;34m{\u001b[0m\u001b[0;34m\"using\"\u001b[0m\u001b[0;34m:\u001b[0m \u001b[0mby\u001b[0m\u001b[0;34m,\u001b[0m \u001b[0;34m\"value\"\u001b[0m\u001b[0;34m:\u001b[0m \u001b[0mvalue\u001b[0m\u001b[0;34m}\u001b[0m\u001b[0;34m)\u001b[0m\u001b[0;34m[\u001b[0m\u001b[0;34m\"value\"\u001b[0m\u001b[0;34m]\u001b[0m\u001b[0;34m\u001b[0m\u001b[0;34m\u001b[0m\u001b[0m\n\u001b[0m\u001b[1;32m    739\u001b[0m \u001b[0;34m\u001b[0m\u001b[0m\n\u001b[1;32m    740\u001b[0m     \u001b[0;32mdef\u001b[0m \u001b[0mfind_elements\u001b[0m\u001b[0;34m(\u001b[0m\u001b[0mself\u001b[0m\u001b[0;34m,\u001b[0m \u001b[0mby\u001b[0m\u001b[0;34m=\u001b[0m\u001b[0mBy\u001b[0m\u001b[0;34m.\u001b[0m\u001b[0mID\u001b[0m\u001b[0;34m,\u001b[0m \u001b[0mvalue\u001b[0m\u001b[0;34m:\u001b[0m \u001b[0mOptional\u001b[0m\u001b[0;34m[\u001b[0m\u001b[0mstr\u001b[0m\u001b[0;34m]\u001b[0m \u001b[0;34m=\u001b[0m \u001b[0;32mNone\u001b[0m\u001b[0;34m)\u001b[0m \u001b[0;34m->\u001b[0m \u001b[0mList\u001b[0m\u001b[0;34m[\u001b[0m\u001b[0mWebElement\u001b[0m\u001b[0;34m]\u001b[0m\u001b[0;34m:\u001b[0m\u001b[0;34m\u001b[0m\u001b[0;34m\u001b[0m\u001b[0m\n",
            "\u001b[0;32m/usr/local/lib/python3.10/dist-packages/selenium/webdriver/remote/webdriver.py\u001b[0m in \u001b[0;36mexecute\u001b[0;34m(self, driver_command, params)\u001b[0m\n\u001b[1;32m    342\u001b[0m         \u001b[0mresponse\u001b[0m \u001b[0;34m=\u001b[0m \u001b[0mself\u001b[0m\u001b[0;34m.\u001b[0m\u001b[0mcommand_executor\u001b[0m\u001b[0;34m.\u001b[0m\u001b[0mexecute\u001b[0m\u001b[0;34m(\u001b[0m\u001b[0mdriver_command\u001b[0m\u001b[0;34m,\u001b[0m \u001b[0mparams\u001b[0m\u001b[0;34m)\u001b[0m\u001b[0;34m\u001b[0m\u001b[0;34m\u001b[0m\u001b[0m\n\u001b[1;32m    343\u001b[0m         \u001b[0;32mif\u001b[0m \u001b[0mresponse\u001b[0m\u001b[0;34m:\u001b[0m\u001b[0;34m\u001b[0m\u001b[0;34m\u001b[0m\u001b[0m\n\u001b[0;32m--> 344\u001b[0;31m             \u001b[0mself\u001b[0m\u001b[0;34m.\u001b[0m\u001b[0merror_handler\u001b[0m\u001b[0;34m.\u001b[0m\u001b[0mcheck_response\u001b[0m\u001b[0;34m(\u001b[0m\u001b[0mresponse\u001b[0m\u001b[0;34m)\u001b[0m\u001b[0;34m\u001b[0m\u001b[0;34m\u001b[0m\u001b[0m\n\u001b[0m\u001b[1;32m    345\u001b[0m             \u001b[0mresponse\u001b[0m\u001b[0;34m[\u001b[0m\u001b[0;34m\"value\"\u001b[0m\u001b[0;34m]\u001b[0m \u001b[0;34m=\u001b[0m \u001b[0mself\u001b[0m\u001b[0;34m.\u001b[0m\u001b[0m_unwrap_value\u001b[0m\u001b[0;34m(\u001b[0m\u001b[0mresponse\u001b[0m\u001b[0;34m.\u001b[0m\u001b[0mget\u001b[0m\u001b[0;34m(\u001b[0m\u001b[0;34m\"value\"\u001b[0m\u001b[0;34m,\u001b[0m \u001b[0;32mNone\u001b[0m\u001b[0;34m)\u001b[0m\u001b[0;34m)\u001b[0m\u001b[0;34m\u001b[0m\u001b[0;34m\u001b[0m\u001b[0m\n\u001b[1;32m    346\u001b[0m             \u001b[0;32mreturn\u001b[0m \u001b[0mresponse\u001b[0m\u001b[0;34m\u001b[0m\u001b[0;34m\u001b[0m\u001b[0m\n",
            "\u001b[0;32m/usr/local/lib/python3.10/dist-packages/selenium/webdriver/remote/errorhandler.py\u001b[0m in \u001b[0;36mcheck_response\u001b[0;34m(self, response)\u001b[0m\n\u001b[1;32m    227\u001b[0m                 \u001b[0malert_text\u001b[0m \u001b[0;34m=\u001b[0m \u001b[0mvalue\u001b[0m\u001b[0;34m[\u001b[0m\u001b[0;34m\"alert\"\u001b[0m\u001b[0;34m]\u001b[0m\u001b[0;34m.\u001b[0m\u001b[0mget\u001b[0m\u001b[0;34m(\u001b[0m\u001b[0;34m\"text\"\u001b[0m\u001b[0;34m)\u001b[0m\u001b[0;34m\u001b[0m\u001b[0;34m\u001b[0m\u001b[0m\n\u001b[1;32m    228\u001b[0m             \u001b[0;32mraise\u001b[0m \u001b[0mexception_class\u001b[0m\u001b[0;34m(\u001b[0m\u001b[0mmessage\u001b[0m\u001b[0;34m,\u001b[0m \u001b[0mscreen\u001b[0m\u001b[0;34m,\u001b[0m \u001b[0mstacktrace\u001b[0m\u001b[0;34m,\u001b[0m \u001b[0malert_text\u001b[0m\u001b[0;34m)\u001b[0m  \u001b[0;31m# type: ignore[call-arg]  # mypy is not smart enough here\u001b[0m\u001b[0;34m\u001b[0m\u001b[0;34m\u001b[0m\u001b[0m\n\u001b[0;32m--> 229\u001b[0;31m         \u001b[0;32mraise\u001b[0m \u001b[0mexception_class\u001b[0m\u001b[0;34m(\u001b[0m\u001b[0mmessage\u001b[0m\u001b[0;34m,\u001b[0m \u001b[0mscreen\u001b[0m\u001b[0;34m,\u001b[0m \u001b[0mstacktrace\u001b[0m\u001b[0;34m)\u001b[0m\u001b[0;34m\u001b[0m\u001b[0;34m\u001b[0m\u001b[0m\n\u001b[0m",
            "\u001b[0;31mNoSuchElementException\u001b[0m: Message: no such element: Unable to locate element: {\"method\":\"xpath\",\"selector\":\"//*[@id=\"sections\"]/div/div/div[2]/div/div[2]/div/div/div/div[1]\"}\n  (Session info: chrome=116.0.5845.96); For documentation on this error, please visit: https://www.selenium.dev/documentation/webdriver/troubleshooting/errors#no-such-element-exception\nStacktrace:\n#0 0x59a86a411e23 <unknown>\n#1 0x59a86a13a7a7 <unknown>\n#2 0x59a86a1791d3 <unknown>\n#3 0x59a86a1792c1 <unknown>\n#4 0x59a86a1b4a04 <unknown>\n#5 0x59a86a19a03d <unknown>\n#6 0x59a86a1b2369 <unknown>\n#7 0x59a86a199de3 <unknown>\n#8 0x59a86a16da7b <unknown>\n#9 0x59a86a16e81e <unknown>\n#10 0x59a86a3d3638 <unknown>\n#11 0x59a86a3d7507 <unknown>\n#12 0x59a86a3e1c4c <unknown>\n#13 0x59a86a3d8136 <unknown>\n#14 0x59a86a3a69cf <unknown>\n#15 0x59a86a3fbb98 <unknown>\n#16 0x59a86a3fbd68 <unknown>\n#17 0x59a86a40acb3 <unknown>\n#18 0x7f2358c90b43 <unknown>\n"
          ]
        }
      ]
    },
    {
      "cell_type": "code",
      "source": [
        "print(len(list))"
      ],
      "metadata": {
        "colab": {
          "base_uri": "https://localhost:8080/"
        },
        "id": "JX8wUAHxRzHd",
        "outputId": "dfd36d79-aa03-4d96-9258-b414432ec4e3"
      },
      "execution_count": null,
      "outputs": [
        {
          "output_type": "stream",
          "name": "stdout",
          "text": [
            "92\n"
          ]
        }
      ]
    },
    {
      "cell_type": "code",
      "source": [
        "if 'Thiên Phúc' in list:\n",
        "    print('is in the list')"
      ],
      "metadata": {
        "colab": {
          "base_uri": "https://localhost:8080/"
        },
        "id": "dpHuS1YVSLOK",
        "outputId": "5af37939-2244-4c72-9f5d-d15fbae2e641"
      },
      "execution_count": null,
      "outputs": [
        {
          "output_type": "stream",
          "name": "stdout",
          "text": [
            "is in the list\n"
          ]
        }
      ]
    },
    {
      "cell_type": "code",
      "source": [
        "from selenium.webdriver.support.ui import WebDriverWait"
      ],
      "metadata": {
        "id": "Puu-uGuOLL8d"
      },
      "execution_count": null,
      "outputs": []
    }
  ]
}