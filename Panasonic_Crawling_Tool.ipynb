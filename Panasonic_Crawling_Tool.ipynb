{
  "nbformat": 4,
  "nbformat_minor": 0,
  "metadata": {
    "colab": {
      "provenance": [],
      "authorship_tag": "ABX9TyOZs470b0gEnYU1hvkFSJqf",
      "include_colab_link": true
    },
    "kernelspec": {
      "name": "python3",
      "display_name": "Python 3"
    },
    "language_info": {
      "name": "python"
    }
  },
  "cells": [
    {
      "cell_type": "markdown",
      "metadata": {
        "id": "view-in-github",
        "colab_type": "text"
      },
      "source": [
        "<a href=\"https://colab.research.google.com/github/Mayugumiii/Panasonic_Crawling_Tool/blob/main/Panasonic_Crawling_Tool.ipynb\" target=\"_parent\"><img src=\"https://colab.research.google.com/assets/colab-badge.svg\" alt=\"Open In Colab\"/></a>"
      ]
    },
    {
      "cell_type": "markdown",
      "source": [
        "Import libraries"
      ],
      "metadata": {
        "id": "EIcQmjQ0aumH"
      }
    },
    {
      "cell_type": "code",
      "execution_count": 4,
      "metadata": {
        "id": "dP40cjKd-0-E"
      },
      "outputs": [],
      "source": [
        "import os\n",
        "import requests\n",
        "import time\n",
        "import random\n",
        "\n",
        "from tqdm import tqdm\n",
        "from selenium import webdriver\n",
        "from selenium.webdriver.common.by import By\n",
        "from selenium.webdriver.support.ui import WebDriverWait\n",
        "from selenium.webdriver.support import expected_conditions as EC\n",
        "from selenium.webdriver.chrome.service import Service\n",
        "from selenium.common.exceptions import NoSuchElementException"
      ]
    },
    {
      "cell_type": "code",
      "source": [
        "vietnam_provinces = [\n",
        "    \"Hà Nội\",\n",
        "    \"Hồ Chí Minh\",\n",
        "    \"Hải Phòng\",\n",
        "    \"Đà Nẵng\",\n",
        "    \"Cần Thơ\",\n",
        "    \"Hà Giang\",\n",
        "    \"Cao Bằng\",\n",
        "    \"Lai Châu\",\n",
        "    \"Lào Cai\",\n",
        "    \"Tuyên Quang\",\n",
        "    \"Lạng Sơn\",\n",
        "    \"Bắc Kạn\",\n",
        "    \"Thái Nguyên\",\n",
        "    \"Yên Bái\",\n",
        "    \"Sơn La\",\n",
        "    \"Phú Thọ\",\n",
        "    \"Vĩnh Phúc\",\n",
        "    \"Bắc Ninh\",\n",
        "    \"Bắc Giang\",\n",
        "    \"Hà Nam\",\n",
        "    \"Hưng Yên\",\n",
        "    \"Thái Bình\",\n",
        "    \"Hải Dương\",\n",
        "    \"Ninh Bình\",\n",
        "    \"Nam Định\",\n",
        "    \"Quảng Ninh\",\n",
        "    \"Thanh Hóa\",\n",
        "    \"Nghệ An\",\n",
        "    \"Hà Tĩnh\",\n",
        "    \"Quảng Bình\",\n",
        "    \"Quảng Trị\",\n",
        "    \"Thừa Thiên-Huế\",\n",
        "    \"Quảng Nam\",\n",
        "    \"Quảng Ngãi\",\n",
        "    \"Bình Định\",\n",
        "    \"Phú Yên\",\n",
        "    \"Khánh Hòa\",\n",
        "    \"Ninh Thuận\",\n",
        "    \"Bình Thuận\",\n",
        "    \"Kon Tum\",\n",
        "    \"Gia Lai\",\n",
        "    \"Đắk Lắk\",\n",
        "    \"Đắk Nông\",\n",
        "    \"Lâm Đồng\",\n",
        "    \"Bình Phước\",\n",
        "    \"Tây Ninh\",\n",
        "    \"Bình Dương\",\n",
        "    \"Đồng Nai\",\n",
        "    \"Bà Rịa-Vũng Tàu\",\n",
        "    \"Long An\",\n",
        "    \"Tiền Giang\",\n",
        "    \"Bến Tre\",\n",
        "    \"Trà Vinh\",\n",
        "    \"Vĩnh Long\",\n",
        "    \"Đồng Tháp\",\n",
        "    \"An Giang\",\n",
        "    \"Kiên Giang\",\n",
        "    \"Cà Mau\",\n",
        "    \"Bạc Liêu\",\n",
        "    \"Sóc Trăng\",\n",
        "    \"Hậu Giang\",\n",
        "    \"Bắc Trung Bộ\",\n",
        "    \"Nam Trung Bộ\",\n",
        "    \"Tây Nguyên\",\n",
        "    \"Đông Nam Bộ\"\n",
        "]\n"
      ],
      "metadata": {
        "id": "Pm5-IdA03Mjp"
      },
      "execution_count": 5,
      "outputs": []
    },
    {
      "cell_type": "code",
      "source": [
        "#Init browser\n",
        "chrome_options = webdriver.ChromeOptions()\n",
        "chrome_options.add_argument('--headless=new')\n",
        "chrome_options.add_argument('--no-sandbox')\n",
        "driver = webdriver.Chrome(\n",
        "    options=chrome_options\n",
        ")"
      ],
      "metadata": {
        "id": "ukvVKeYLbYZz"
      },
      "execution_count": 8,
      "outputs": []
    },
    {
      "cell_type": "code",
      "source": [
        "list = []\n",
        "\n",
        "for province in vietnam_provinces:\n",
        "  print(province)\n",
        "  driver.get(\"https://www.panasonic.com/vn/support/service-center.html\")\n",
        "\n",
        "  radius_button = driver.find_element(By.ID, 'distance_3')\n",
        "  radius_button.click()\n",
        "\n",
        "\n",
        "  time.sleep(3)\n",
        "  search_input = driver.find_element(By.ID, 'a-search')\n",
        "  search_input.clear()\n",
        "  time.sleep(3)\n",
        "  search_input.send_keys(province)\n",
        "\n",
        "  search_button = driver.find_element(By.ID, 'searchsubmit')\n",
        "  search_button.click()\n",
        "\n",
        "  time.sleep(3)\n",
        "  scroll_increment = 111.8\n",
        "  div_element = driver.find_element(By.XPATH, '//*[@id=\"sections\"]/div/div/div[2]/div/div[2]/div/div/div/div[1]')\n",
        "  # Initialize n\n",
        "  top_value = 0\n",
        "  n = 1\n",
        "  while True:\n",
        "      try:\n",
        "          h3_element = driver.find_element(By.XPATH, '//*[@id=\"sections\"]/div/div/div[2]/div/div[2]/div/div/div/div[1]/div/div[' + str(n) + ']/div[2]/h3')\n",
        "          if h3_element.text not in list:\n",
        "            list.append(h3_element.text)\n",
        "          top_value -= 100\n",
        "          driver.execute_script(f\"arguments[0].style.top = '{top_value}px';\", div_element)\n",
        "          n += 1\n",
        "      except NoSuchElementException:\n",
        "          # If no more h3 elements are found, exit the loop\n",
        "          break\n",
        "  print(list)\n",
        "\n",
        "  driver.back()"
      ],
      "metadata": {
        "id": "PICw6YHjeRtn",
        "colab": {
          "base_uri": "https://localhost:8080/",
          "height": 262
        },
        "outputId": "e8231bdb-6a4b-49d8-f014-878e7c008d76"
      },
      "execution_count": 9,
      "outputs": [
        {
          "output_type": "stream",
          "name": "stdout",
          "text": [
            "Hà Nội\n"
          ]
        },
        {
          "output_type": "error",
          "ename": "KeyboardInterrupt",
          "evalue": "ignored",
          "traceback": [
            "\u001b[0;31m---------------------------------------------------------------------------\u001b[0m",
            "\u001b[0;31mKeyboardInterrupt\u001b[0m                         Traceback (most recent call last)",
            "\u001b[0;32m<ipython-input-9-74586fbd7b18>\u001b[0m in \u001b[0;36m<cell line: 3>\u001b[0;34m()\u001b[0m\n\u001b[1;32m     12\u001b[0m   \u001b[0msearch_input\u001b[0m \u001b[0;34m=\u001b[0m \u001b[0mdriver\u001b[0m\u001b[0;34m.\u001b[0m\u001b[0mfind_element\u001b[0m\u001b[0;34m(\u001b[0m\u001b[0mBy\u001b[0m\u001b[0;34m.\u001b[0m\u001b[0mID\u001b[0m\u001b[0;34m,\u001b[0m \u001b[0;34m'a-search'\u001b[0m\u001b[0;34m)\u001b[0m\u001b[0;34m\u001b[0m\u001b[0;34m\u001b[0m\u001b[0m\n\u001b[1;32m     13\u001b[0m   \u001b[0msearch_input\u001b[0m\u001b[0;34m.\u001b[0m\u001b[0mclear\u001b[0m\u001b[0;34m(\u001b[0m\u001b[0;34m)\u001b[0m\u001b[0;34m\u001b[0m\u001b[0;34m\u001b[0m\u001b[0m\n\u001b[0;32m---> 14\u001b[0;31m   \u001b[0mtime\u001b[0m\u001b[0;34m.\u001b[0m\u001b[0msleep\u001b[0m\u001b[0;34m(\u001b[0m\u001b[0;36m3\u001b[0m\u001b[0;34m)\u001b[0m\u001b[0;34m\u001b[0m\u001b[0;34m\u001b[0m\u001b[0m\n\u001b[0m\u001b[1;32m     15\u001b[0m   \u001b[0msearch_input\u001b[0m\u001b[0;34m.\u001b[0m\u001b[0msend_keys\u001b[0m\u001b[0;34m(\u001b[0m\u001b[0mprovince\u001b[0m\u001b[0;34m)\u001b[0m\u001b[0;34m\u001b[0m\u001b[0;34m\u001b[0m\u001b[0m\n\u001b[1;32m     16\u001b[0m \u001b[0;34m\u001b[0m\u001b[0m\n",
            "\u001b[0;31mKeyboardInterrupt\u001b[0m: "
          ]
        }
      ]
    }
  ]
}